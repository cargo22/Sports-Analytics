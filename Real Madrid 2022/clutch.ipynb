{
 "cells": [
  {
   "cell_type": "markdown",
   "id": "7dae4716",
   "metadata": {},
   "source": [
    "When talking about the many great UCL runs seen in my lifetime, I always remember Real Madrid's 21/22 campaign. I was a senior in high school- the end of the school year was upon us, the senioritis was kicking in, and my friend and I would constantly talk about the 'black magic rituals' Real Madrid was performing to pull off these miracles. I vividly remember watching the second leg of Real Madrid vs Man City, where my friend and I were in class, trying our hardest to not cause commotion in the middle of lecture. We were close to screaming, but opted to not create a scene. As a lifelong Barcelona fan, it was definitely hard to watch, but all I could do was admire the gift the footballing gods provided us. Thus, I want to revisit this campaign and truly point out how miraculous this season was."
   ]
  },
  {
   "cell_type": "markdown",
   "id": "dc37caec",
   "metadata": {},
   "source": [
    "Now, for the sake of simplicity, I'm only going to analyze the knockout stages. Not much happened in the group stage. However, as a Barca fan, I most definitely enjoyed watching them lose to Sheriff. I will always remember that. Now, let's get into the juicy stuff."
   ]
  },
  {
   "cell_type": "markdown",
   "id": "d7e58669",
   "metadata": {},
   "source": []
  }
 ],
 "metadata": {
  "language_info": {
   "name": "python"
  }
 },
 "nbformat": 4,
 "nbformat_minor": 5
}
